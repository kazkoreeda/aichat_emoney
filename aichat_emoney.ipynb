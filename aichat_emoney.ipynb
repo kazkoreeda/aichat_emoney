#pip install flask openai stripe



#実行方法
#app.pyを実行。
#ブラウザでhttp://localhost:5000にアクセス。
#注意点
#必ずAPIキーを安全に管理してください（環境変数などを利用）。
#HTTPSが必要な場合はFlaskを本番用サーバーでデプロイする際に考慮してください。






from flask import Flask, request, jsonify, render_template
import openai
import stripe

# Flaskアプリの設定
app = Flask(__name__)

# OpenAI APIキー
openai.api_key = "YOUR_OPENAI_API_KEY"

# Stripe設定
stripe.api_key = "YOUR_STRIPE_SECRET_KEY"
YOUR_STRIPE_PUBLIC_KEY = "YOUR_STRIPE_PUBLIC_KEY"

# ホームページ
@app.route("/")
def home():
    return render_template("index.html", public_key=YOUR_STRIPE_PUBLIC_KEY)

# AIチャットエンドポイント
@app.route("/chat", methods=["POST"])
def chat():
    user_message = request.json.get("message")
    if not user_message:
        return jsonify({"error": "Message is required"}), 400

    try:
        response = openai.Completion.create(
            engine="text-davinci-003",
            prompt=user_message,
            max_tokens=150
        )
        ai_reply = response.choices[0].text.strip()
        return jsonify({"reply": ai_reply})
    except Exception as e:
        return jsonify({"error": str(e)}), 500

# 支払いエンドポイント
@app.route("/create-checkout-session", methods=["POST"])
def create_checkout_session():
    try:
        session = stripe.checkout.Session.create(
            payment_method_types=["card"],
            line_items=[{
                "price_data": {
                    "currency": "usd",
                    "product_data": {
                        "name": "AIチャットサービス",
                    },
                    "unit_amount": 500,  # 金額（例: $5）
                },
                "quantity": 1,
            }],
            mode="payment",
            success_url="http://localhost:5000/success",
            cancel_url="http://localhost:5000/cancel",
        )
        return jsonify({"id": session.id})
    except Exception as e:
        return jsonify({"error": str(e)}), 500

# 成功・キャンセルページ
@app.route("/success")
def success():
    return "Payment was successful!"

@app.route("/cancel")
def cancel():
    return "Payment was canceled."

# アプリの起動
if __name__ == "__main__":
    app.run(debug=True)
